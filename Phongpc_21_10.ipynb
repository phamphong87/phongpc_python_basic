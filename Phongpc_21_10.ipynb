{
  "nbformat": 4,
  "nbformat_minor": 0,
  "metadata": {
    "colab": {
      "provenance": [],
      "collapsed_sections": []
    },
    "kernelspec": {
      "name": "python3",
      "display_name": "Python 3"
    },
    "language_info": {
      "name": "python"
    }
  },
  "cells": [
    {
      "cell_type": "code",
      "execution_count": 1,
      "metadata": {
        "colab": {
          "base_uri": "https://localhost:8080/"
        },
        "id": "suv7h1sSn__Q",
        "outputId": "13caa3d0-fc24-447b-ff72-bbe7cf113236"
      },
      "outputs": [
        {
          "output_type": "stream",
          "name": "stdout",
          "text": [
            "0.3495333784258816\n"
          ]
        }
      ],
      "source": [
        "#đồng xu\n",
        "import random\n",
        "total_flips = 0\n",
        "num_tails = 0\n",
        "num_heads = 0\n",
        "for _ in range(1000):\n",
        "  n = random.random()\n",
        "  if n < 0.5:\n",
        "      num_tails = num_tails + 1\n",
        "  else:\n",
        "      num_heads = num_heads + 1\n",
        "\n",
        "  total_flips = total_flips + 1\n",
        "print(n)\n"
      ]
    },
    {
      "cell_type": "code",
      "source": [
        "#Pi\n",
        "import random\n",
        "import math\n",
        "\n",
        "N = 10\n",
        "N_T = 0\n",
        "\n",
        "for i in range(N):\n",
        "  x = random.random()*2 - 1\n",
        "  y = random.random()*2 - 1\n",
        "\n",
        "  x2 = x**2\n",
        "  y2 = y**2\n",
        "\n",
        "  if math.sqrt (x2 + y2) <= 1.0:\n",
        "    N_T = N_T + 1\n",
        "\n",
        "  pi = (N_T / N) * 4\n",
        "  print(pi)"
      ],
      "metadata": {
        "colab": {
          "base_uri": "https://localhost:8080/"
        },
        "id": "4YAzSjf6oTW7",
        "outputId": "c38a5caa-b0fa-41ba-d813-7e7d6543d593"
      },
      "execution_count": 5,
      "outputs": [
        {
          "output_type": "stream",
          "name": "stdout",
          "text": [
            "0.4\n",
            "0.8\n",
            "1.2\n",
            "1.6\n",
            "2.0\n",
            "2.4\n",
            "2.8\n",
            "3.2\n",
            "3.6\n",
            "4.0\n"
          ]
        }
      ]
    },
    {
      "cell_type": "code",
      "source": [
        "#example - euler's number\n",
        "def factorial (n):\n",
        "  result = 1\n",
        "\n",
        "  for i in range(2, n+1):\n",
        "    result = result*i\n",
        "  return result\n",
        "\n",
        "def estimate_e(n):\n",
        "  result = 1\n",
        "\n",
        "  for i in range(1,n+1):\n",
        "    result = result + 1/factorial(i)\n",
        "  \n",
        "  return result\n",
        "\n",
        "print(estimate_e(10))\n"
      ],
      "metadata": {
        "colab": {
          "base_uri": "https://localhost:8080/"
        },
        "id": "gwROpdl5oayW",
        "outputId": "575a722f-dd32-4653-db8b-4311299e12bc"
      },
      "execution_count": 6,
      "outputs": [
        {
          "output_type": "stream",
          "name": "stdout",
          "text": [
            "2.7182818011463845\n"
          ]
        }
      ]
    },
    {
      "cell_type": "code",
      "source": [
        "#example - computer quadratic root\n",
        "\n",
        "def computer_quadratic_root(N, num_loops):\n",
        "  x_n = N/2.0\n",
        "\n",
        "  for i in range(num_loops):\n",
        "    x_np1 = (x_n + N/x_n) / 2.0\n",
        "    v_n = x_np1\n",
        "\n",
        "  return x_np1\n",
        "\n",
        "print (computer_quadratic_root(N=9, num_loops=10))\n",
        "print (computer_quadratic_root(N=2, num_loops=10))\n"
      ],
      "metadata": {
        "colab": {
          "base_uri": "https://localhost:8080/"
        },
        "id": "iWk_qXC3od6Z",
        "outputId": "b7a0bcda-e595-4be9-d15f-c7c6d4225ac3"
      },
      "execution_count": 7,
      "outputs": [
        {
          "output_type": "stream",
          "name": "stdout",
          "text": [
            "3.25\n",
            "1.5\n"
          ]
        }
      ]
    },
    {
      "cell_type": "code",
      "source": [
        "#while Loop\n",
        "\n",
        "i = 0\n",
        "while i <5:\n",
        "  print(i)\n",
        "  i = i+1\n",
        "print('ket thuc')"
      ],
      "metadata": {
        "colab": {
          "base_uri": "https://localhost:8080/"
        },
        "id": "A96yTvclogGr",
        "outputId": "455fbc9e-2ba3-415a-c5bd-69c8f4f6518e"
      },
      "execution_count": 8,
      "outputs": [
        {
          "output_type": "stream",
          "name": "stdout",
          "text": [
            "0\n",
            "1\n",
            "2\n",
            "3\n",
            "4\n",
            "ket thuc\n"
          ]
        }
      ]
    },
    {
      "cell_type": "code",
      "source": [
        "#while Loop 2\n",
        "import random\n",
        "\n",
        "while True:\n",
        "  num = random.randint(0,5)\n",
        "  print('so sinh ra', num)\n",
        "  if num ==4:\n",
        "    break;\n",
        "print('ket thuc')"
      ],
      "metadata": {
        "colab": {
          "base_uri": "https://localhost:8080/"
        },
        "id": "xvM8R6mNojSJ",
        "outputId": "e1e9e4d6-21a9-4564-d9d5-6e1835fd469a"
      },
      "execution_count": 10,
      "outputs": [
        {
          "output_type": "stream",
          "name": "stdout",
          "text": [
            "so sinh ra 3\n",
            "so sinh ra 2\n",
            "so sinh ra 5\n",
            "so sinh ra 1\n",
            "so sinh ra 3\n",
            "so sinh ra 5\n",
            "so sinh ra 1\n",
            "so sinh ra 1\n",
            "so sinh ra 5\n",
            "so sinh ra 3\n",
            "so sinh ra 2\n",
            "so sinh ra 5\n",
            "so sinh ra 1\n",
            "so sinh ra 4\n",
            "ket thuc\n"
          ]
        }
      ]
    }
  ]
}