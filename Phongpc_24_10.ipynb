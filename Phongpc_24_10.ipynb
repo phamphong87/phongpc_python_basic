{
  "nbformat": 4,
  "nbformat_minor": 0,
  "metadata": {
    "colab": {
      "provenance": [],
      "collapsed_sections": []
    },
    "kernelspec": {
      "name": "python3",
      "display_name": "Python 3"
    },
    "language_info": {
      "name": "python"
    }
  },
  "cells": [
    {
      "cell_type": "code",
      "execution_count": 1,
      "metadata": {
        "colab": {
          "base_uri": "https://localhost:8080/"
        },
        "id": "0D2E41AbF5uO",
        "outputId": "537e0c7f-7fc8-4b36-bb6b-609c81dc4303"
      },
      "outputs": [
        {
          "output_type": "stream",
          "name": "stdout",
          "text": [
            "[[1. 1. 1.]\n",
            " [1. 1. 1.]]\n"
          ]
        }
      ],
      "source": [
        "import numpy as np\n",
        "arr = np.ones((2,3))\n",
        "print(arr)"
      ]
    },
    {
      "cell_type": "code",
      "source": [
        "import numpy as np\n",
        "arr = np.full((2,3),9)\n",
        "print(arr)"
      ],
      "metadata": {
        "colab": {
          "base_uri": "https://localhost:8080/"
        },
        "id": "QvazNIx6GRzO",
        "outputId": "5c75e5dc-05cf-4292-e79b-996a46bfa3f7"
      },
      "execution_count": 2,
      "outputs": [
        {
          "output_type": "stream",
          "name": "stdout",
          "text": [
            "[[9 9 9]\n",
            " [9 9 9]]\n"
          ]
        }
      ]
    },
    {
      "cell_type": "code",
      "source": [
        "import numpy as np\n",
        "arr1 = np.arange(5)\n",
        "print(arr1)\n",
        "\n",
        "arr2 = np.arange(0,5,2)\n",
        "print(arr2)"
      ],
      "metadata": {
        "colab": {
          "base_uri": "https://localhost:8080/"
        },
        "id": "ZBMjybDGGWYz",
        "outputId": "d0bf633f-3e30-4bfd-a578-9202dd7300a4"
      },
      "execution_count": 3,
      "outputs": [
        {
          "output_type": "stream",
          "name": "stdout",
          "text": [
            "[0 1 2 3 4]\n",
            "[0 2 4]\n"
          ]
        }
      ]
    },
    {
      "cell_type": "code",
      "source": [
        "import numpy as np\n",
        "arr = np.eye(3)\n",
        "print(arr)"
      ],
      "metadata": {
        "colab": {
          "base_uri": "https://localhost:8080/"
        },
        "id": "qdUB0VI5GaKR",
        "outputId": "2c4112b2-4ad0-4fec-91c5-f79c437a425f"
      },
      "execution_count": 4,
      "outputs": [
        {
          "output_type": "stream",
          "name": "stdout",
          "text": [
            "[[1. 0. 0.]\n",
            " [0. 1. 0.]\n",
            " [0. 0. 1.]]\n"
          ]
        }
      ]
    },
    {
      "cell_type": "code",
      "source": [
        "import numpy as np\n",
        "arr = np.random.random((2,3))\n",
        "print(arr)"
      ],
      "metadata": {
        "colab": {
          "base_uri": "https://localhost:8080/"
        },
        "id": "b3652CcRGdXq",
        "outputId": "0d1c6849-4c7c-4719-b640-c91abd9fb1af"
      },
      "execution_count": 8,
      "outputs": [
        {
          "output_type": "stream",
          "name": "stdout",
          "text": [
            "[[0.03045063 0.18927965 0.30771366]\n",
            " [0.05333116 0.54181317 0.60285531]]\n"
          ]
        }
      ]
    },
    {
      "cell_type": "code",
      "source": [
        "import numpy as np\n",
        "arr = np.arange(5)\n",
        "print(arr)\n",
        "\n",
        "condition = arr < 3\n",
        "out = np.where(condition, arr, arr * 2)\n",
        "\n",
        "print(condition)\n",
        "print(out)"
      ],
      "metadata": {
        "colab": {
          "base_uri": "https://localhost:8080/"
        },
        "id": "_gIgk_CsGlVu",
        "outputId": "1e72cf53-0d5b-426e-f449-c1605889e8a4"
      },
      "execution_count": 10,
      "outputs": [
        {
          "output_type": "stream",
          "name": "stdout",
          "text": [
            "[0 1 2 3 4]\n",
            "[ True  True  True False False]\n",
            "[0 1 2 6 8]\n"
          ]
        }
      ]
    },
    {
      "cell_type": "code",
      "source": [
        "import numpy as np\n",
        "arr = np.array([[2,3], [3,4]])\n",
        "out = arr.flatten()\n",
        "print(arr)\n",
        "print(out)"
      ],
      "metadata": {
        "colab": {
          "base_uri": "https://localhost:8080/"
        },
        "id": "tgmtiB_-Gpio",
        "outputId": "f4752f3c-7ed4-4137-8fb3-3be9ec6e88aa"
      },
      "execution_count": 12,
      "outputs": [
        {
          "output_type": "stream",
          "name": "stdout",
          "text": [
            "[[2 3]\n",
            " [3 4]]\n",
            "[2 3 3 4]\n"
          ]
        }
      ]
    },
    {
      "cell_type": "code",
      "source": [
        "import numpy as np\n",
        "\n",
        "l = [[1,2,3],\n",
        "     [4,5,6]]\n",
        "\n",
        "data = np.array(l)\n",
        "print(data)\n",
        "print(data.shape)\n",
        "\n",
        "data_rs = np.reshape(data, (3,2))\n",
        "print(data_rs)\n",
        "print(data_rs.shape)"
      ],
      "metadata": {
        "colab": {
          "base_uri": "https://localhost:8080/"
        },
        "id": "70l8sP-UGuhJ",
        "outputId": "b1b5314d-bc39-4a56-c9e6-2a7c416d61af"
      },
      "execution_count": 13,
      "outputs": [
        {
          "output_type": "stream",
          "name": "stdout",
          "text": [
            "[[1 2 3]\n",
            " [4 5 6]]\n",
            "(2, 3)\n",
            "[[1 2]\n",
            " [3 4]\n",
            " [5 6]]\n",
            "(3, 2)\n"
          ]
        }
      ]
    },
    {
      "cell_type": "code",
      "source": [
        "import numpy as np\n",
        "\n",
        "a_arr = np.array([[1,2,3],\n",
        "                  [5,6,7]])\n",
        "\n",
        "b_arr = a_arr[:, 1:3]\n",
        "print(a_arr)\n",
        "print(b_arr)"
      ],
      "metadata": {
        "colab": {
          "base_uri": "https://localhost:8080/"
        },
        "id": "_s-D-ZSzGzth",
        "outputId": "ee711e4b-25b0-479f-8473-7feee64b12f4"
      },
      "execution_count": 14,
      "outputs": [
        {
          "output_type": "stream",
          "name": "stdout",
          "text": [
            "[[1 2 3]\n",
            " [5 6 7]]\n",
            "[[2 3]\n",
            " [6 7]]\n"
          ]
        }
      ]
    },
    {
      "cell_type": "code",
      "source": [
        "import numpy as np\n",
        "\n",
        "a_arr = np.array([[1,2,3],\n",
        "                  [5,6,7]])\n",
        "print(a_arr)\n",
        "\n",
        "b_arr = a_arr[:, 1:3]\n",
        "print(b_arr)\n",
        "\n",
        "print(a_arr[0,1])\n",
        "b_arr[0,0] = 99\n",
        "print(a_arr[0,1])"
      ],
      "metadata": {
        "colab": {
          "base_uri": "https://localhost:8080/"
        },
        "id": "6fOaic58G46X",
        "outputId": "33d3ef19-a493-4809-ba24-7bd3da599f74"
      },
      "execution_count": 15,
      "outputs": [
        {
          "output_type": "stream",
          "name": "stdout",
          "text": [
            "[[1 2 3]\n",
            " [5 6 7]]\n",
            "[[2 3]\n",
            " [6 7]]\n",
            "2\n",
            "99\n"
          ]
        }
      ]
    },
    {
      "cell_type": "code",
      "source": [
        "import numpy as np\n",
        "\n",
        "arr = np.array([[1,2,3],\n",
        "                [5,6,7],\n",
        "                [9,10,11]])\n",
        "\n",
        "row_m1 = arr[1, :]\n",
        "row_m2 = arr[1:2, :]\n",
        "\n",
        "print(row_m1, row_m1.shape)\n",
        "print(row_m2, row_m2.shape)"
      ],
      "metadata": {
        "colab": {
          "base_uri": "https://localhost:8080/"
        },
        "id": "5sQfyBdLG-Dn",
        "outputId": "923fae30-28a6-4fc5-c840-96c5a5165e2b"
      },
      "execution_count": 16,
      "outputs": [
        {
          "output_type": "stream",
          "name": "stdout",
          "text": [
            "[5 6 7] (3,)\n",
            "[[5 6 7]] (1, 3)\n"
          ]
        }
      ]
    },
    {
      "cell_type": "code",
      "source": [
        "import numpy as np\n",
        "\n",
        "arr = np.array([[1,2,3],\n",
        "                [5,6,7],\n",
        "                [9,10,11]])\n",
        "\n",
        "col_m1 = arr[:, 1]\n",
        "col_m2 = arr[:, 1:2]\n",
        "\n",
        "print(col_m1, col_m1.shape)\n",
        "print(col_m2, col_m2.shape)"
      ],
      "metadata": {
        "colab": {
          "base_uri": "https://localhost:8080/"
        },
        "id": "K1Gr7yyCHCYu",
        "outputId": "76e0bd9b-ffd4-48fa-eb23-badbf23ba07b"
      },
      "execution_count": 17,
      "outputs": [
        {
          "output_type": "stream",
          "name": "stdout",
          "text": [
            "[ 2  6 10] (3,)\n",
            "[[ 2]\n",
            " [ 6]\n",
            " [10]] (3, 1)\n"
          ]
        }
      ]
    },
    {
      "cell_type": "code",
      "source": [
        "import numpy as np\n",
        "\n",
        "arr = np.array([[1,2,3],\n",
        "                [5,6,7],\n",
        "                [9,10,11]])\n",
        "\n",
        "out1 = arr[[0,1,2],[0,1,0]]\n",
        "print(out1)\n",
        "out2 = arr [[0,0],[1,1]]\n",
        "print(out2)"
      ],
      "metadata": {
        "colab": {
          "base_uri": "https://localhost:8080/"
        },
        "id": "O3adPDfDHFdO",
        "outputId": "c1dcd7d9-5ee7-4b51-c159-3850e635c6dc"
      },
      "execution_count": 18,
      "outputs": [
        {
          "output_type": "stream",
          "name": "stdout",
          "text": [
            "[1 6 9]\n",
            "[2 2]\n"
          ]
        }
      ]
    },
    {
      "cell_type": "code",
      "source": [
        "import numpy as np\n",
        "\n",
        "arr = np.array([[1,2,3],\n",
        "                [5,6,7],\n",
        "                [9,10,11]])\n",
        "print(arr)\n",
        "\n",
        "bool_idx = (arr >2)\n",
        "print(bool_idx)"
      ],
      "metadata": {
        "colab": {
          "base_uri": "https://localhost:8080/"
        },
        "id": "se5SkvpoHIvP",
        "outputId": "9a3dcda3-5dcc-428f-e246-b6ff32545096"
      },
      "execution_count": 19,
      "outputs": [
        {
          "output_type": "stream",
          "name": "stdout",
          "text": [
            "[[ 1  2  3]\n",
            " [ 5  6  7]\n",
            " [ 9 10 11]]\n",
            "[[False False  True]\n",
            " [ True  True  True]\n",
            " [ True  True  True]]\n"
          ]
        }
      ]
    },
    {
      "cell_type": "code",
      "source": [
        "import numpy as np\n",
        "\n",
        "x = np.array([1,2,3,4])\n",
        "y = np.array([5,6,7,8])\n",
        "\n",
        "print(x)\n",
        "print(y)\n",
        "\n",
        "print(x+y)\n",
        "print(np.add(x,y))"
      ],
      "metadata": {
        "colab": {
          "base_uri": "https://localhost:8080/"
        },
        "id": "cBj2VnUtHLye",
        "outputId": "cf4a9ccc-cdf3-4603-f6a2-a861b7acc501"
      },
      "execution_count": 20,
      "outputs": [
        {
          "output_type": "stream",
          "name": "stdout",
          "text": [
            "[1 2 3 4]\n",
            "[5 6 7 8]\n",
            "[ 6  8 10 12]\n",
            "[ 6  8 10 12]\n"
          ]
        }
      ]
    },
    {
      "cell_type": "code",
      "source": [
        "import numpy as np\n",
        "\n",
        "x = np.array([1,2,3,4])\n",
        "y = np.array([5,6,7,8])\n",
        "\n",
        "print(x)\n",
        "print(y)\n",
        "\n",
        "print(x-y)\n",
        "print(np.subtract(x,y))"
      ],
      "metadata": {
        "colab": {
          "base_uri": "https://localhost:8080/"
        },
        "id": "Mj-fz-i5HRqH",
        "outputId": "83193017-9386-4c3d-a717-2f7e965fee35"
      },
      "execution_count": 21,
      "outputs": [
        {
          "output_type": "stream",
          "name": "stdout",
          "text": [
            "[1 2 3 4]\n",
            "[5 6 7 8]\n",
            "[-4 -4 -4 -4]\n",
            "[-4 -4 -4 -4]\n"
          ]
        }
      ]
    },
    {
      "cell_type": "code",
      "source": [
        "import numpy as np\n",
        "\n",
        "x = np.array([1,2,3,4])\n",
        "y = np.array([5,6,7,8])\n",
        "\n",
        "print(x)\n",
        "print(y)\n",
        "\n",
        "print(x*y)\n",
        "print(np.multiply(x,y))"
      ],
      "metadata": {
        "colab": {
          "base_uri": "https://localhost:8080/"
        },
        "id": "Xe1AADyCHUzX",
        "outputId": "4c105943-aa95-454b-f3bb-e7b60827f6d2"
      },
      "execution_count": 22,
      "outputs": [
        {
          "output_type": "stream",
          "name": "stdout",
          "text": [
            "[1 2 3 4]\n",
            "[5 6 7 8]\n",
            "[ 5 12 21 32]\n",
            "[ 5 12 21 32]\n"
          ]
        }
      ]
    },
    {
      "cell_type": "code",
      "source": [
        "import numpy as np\n",
        "\n",
        "x = np.array([5,6,7,8])\n",
        "y = np.array([1,2,3,4])\n",
        "\n",
        "print(x)\n",
        "print(y)\n",
        "#chia cac tung phan tuong ung x cho y\n",
        "print(x/y)\n",
        "print(x//y)\n",
        "print(np.divide(x,y))"
      ],
      "metadata": {
        "colab": {
          "base_uri": "https://localhost:8080/"
        },
        "id": "EzFhpexRHXYu",
        "outputId": "72c48edd-e708-4f9d-d2d4-42536b7ab618"
      },
      "execution_count": 23,
      "outputs": [
        {
          "output_type": "stream",
          "name": "stdout",
          "text": [
            "[5 6 7 8]\n",
            "[1 2 3 4]\n",
            "[5.         3.         2.33333333 2.        ]\n",
            "[5 3 2 2]\n",
            "[5.         3.         2.33333333 2.        ]\n"
          ]
        }
      ]
    },
    {
      "cell_type": "code",
      "source": [
        "import numpy as np\n",
        "\n",
        "x = np.array([5,6,7,8])\n",
        "print(x)\n",
        "print('can bac 2', np.sqrt(x))"
      ],
      "metadata": {
        "colab": {
          "base_uri": "https://localhost:8080/"
        },
        "id": "-tymeUHkHbRs",
        "outputId": "a16d438b-5b41-44d6-9de4-c4fc7933a7ec"
      },
      "execution_count": 24,
      "outputs": [
        {
          "output_type": "stream",
          "name": "stdout",
          "text": [
            "[5 6 7 8]\n",
            "can bac 2 [2.23606798 2.44948974 2.64575131 2.82842712]\n"
          ]
        }
      ]
    },
    {
      "cell_type": "code",
      "source": [
        "import numpy as np\n",
        "\n",
        "v = np.array([1,2])\n",
        "w = np.array([2,3])\n",
        "#tinh inner product\n",
        "print(v.dot(w))\n",
        "print(np.dot(v,w))"
      ],
      "metadata": {
        "colab": {
          "base_uri": "https://localhost:8080/"
        },
        "id": "ZJ9F-2D3HepW",
        "outputId": "97a7a803-9d28-43d1-89cc-5b9c67875442"
      },
      "execution_count": 25,
      "outputs": [
        {
          "output_type": "stream",
          "name": "stdout",
          "text": [
            "8\n",
            "8\n"
          ]
        }
      ]
    },
    {
      "cell_type": "code",
      "source": [
        "import numpy as np\n",
        "v = np.array([[1,2],[3,4]])\n",
        "w = np.array([2,3])\n",
        "\n",
        "\n",
        "print(v)\n",
        "print(w)\n",
        "\n",
        "print(v.dot(w))\n",
        "print(w.dot(v))"
      ],
      "metadata": {
        "colab": {
          "base_uri": "https://localhost:8080/"
        },
        "id": "Ntpe4VGkHg5J",
        "outputId": "925d82d1-362d-428f-dc7f-3a99e9a621ef"
      },
      "execution_count": 26,
      "outputs": [
        {
          "output_type": "stream",
          "name": "stdout",
          "text": [
            "[[1 2]\n",
            " [3 4]]\n",
            "[2 3]\n",
            "[ 8 18]\n",
            "[11 16]\n"
          ]
        }
      ]
    },
    {
      "cell_type": "code",
      "source": [
        "import numpy as np\n",
        "\n",
        "x = np.array([[1,2],\n",
        "              [3,4]])\n",
        "y = np.array([[2,3],\n",
        "              [2,1]])\n",
        "\n",
        "#nhan giua 2 ma tran\n",
        "print(x.dot(y))\n",
        "print(y.dot(x))"
      ],
      "metadata": {
        "colab": {
          "base_uri": "https://localhost:8080/"
        },
        "id": "D3pygoXdHkGO",
        "outputId": "fd7389c0-9bab-4f21-db4b-25da4e80b7ff"
      },
      "execution_count": 27,
      "outputs": [
        {
          "output_type": "stream",
          "name": "stdout",
          "text": [
            "[[ 6  5]\n",
            " [14 13]]\n",
            "[[11 16]\n",
            " [ 5  8]]\n"
          ]
        }
      ]
    },
    {
      "cell_type": "code",
      "source": [
        "import numpy as np\n",
        "\n",
        "x = np.array([[1,2],\n",
        "              [3,4]])\n",
        "#chuyen vi\n",
        "print(x)\n",
        "print(x.T)"
      ],
      "metadata": {
        "colab": {
          "base_uri": "https://localhost:8080/"
        },
        "id": "fZ0zljQbHmrm",
        "outputId": "0fff327f-109d-4a6b-e22b-f5c1a4525dc1"
      },
      "execution_count": 28,
      "outputs": [
        {
          "output_type": "stream",
          "name": "stdout",
          "text": [
            "[[1 2]\n",
            " [3 4]]\n",
            "[[1 3]\n",
            " [2 4]]\n"
          ]
        }
      ]
    },
    {
      "cell_type": "code",
      "source": [
        "import numpy as np\n",
        "\n",
        "x = np.array([[1,2],\n",
        "              [3,4]])\n",
        "\n",
        "#tong cac phan tu cua mang\n",
        "print(np.sum(x))\n",
        "\n",
        "#tong tung cot\n",
        "print(np.sum(x, axis = 0))\n",
        "\n",
        "#tong tung dong\n",
        "print(np.sum(x, axis=1))"
      ],
      "metadata": {
        "colab": {
          "base_uri": "https://localhost:8080/"
        },
        "id": "ocXuw_SoHryk",
        "outputId": "0adb8458-689b-4db6-cc01-491d74e2ec6a"
      },
      "execution_count": 29,
      "outputs": [
        {
          "output_type": "stream",
          "name": "stdout",
          "text": [
            "10\n",
            "[4 6]\n",
            "[3 7]\n"
          ]
        }
      ]
    },
    {
      "cell_type": "code",
      "source": [
        "import numpy as np\n",
        "\n",
        "data = np.array([1,2,3])\n",
        "\n",
        "print(data.min())\n",
        "print(data.max())"
      ],
      "metadata": {
        "colab": {
          "base_uri": "https://localhost:8080/"
        },
        "id": "zPFH8IvOHwWj",
        "outputId": "8078e45b-b252-4d8c-a816-735d27bdb4b0"
      },
      "execution_count": 30,
      "outputs": [
        {
          "output_type": "stream",
          "name": "stdout",
          "text": [
            "1\n",
            "3\n"
          ]
        }
      ]
    },
    {
      "cell_type": "code",
      "source": [
        "import numpy as np\n",
        "\n",
        "data = np.array([1,2,3])\n",
        "factor = 2\n",
        "\n",
        "#broadcasting\n",
        "result_multiplication = data*factor\n",
        "result_minus = data - factor\n",
        "\n",
        "print(data)\n",
        "print(result_multiplication)\n",
        "print(result_minus)"
      ],
      "metadata": {
        "colab": {
          "base_uri": "https://localhost:8080/"
        },
        "id": "0L5IzXbnH0ha",
        "outputId": "b0606322-4b88-461f-acf0-bb9ae2e10fa1"
      },
      "execution_count": 31,
      "outputs": [
        {
          "output_type": "stream",
          "name": "stdout",
          "text": [
            "[1 2 3]\n",
            "[2 4 6]\n",
            "[-1  0  1]\n"
          ]
        }
      ]
    },
    {
      "cell_type": "code",
      "source": [
        "import numpy as np\n",
        "\n",
        "x = np.array([[1,2,3],\n",
        "              [4,5,6],\n",
        "              [7,8,9],\n",
        "              [10,11,12]])\n",
        "v = np.array([1,0,1])\n",
        "y = x + v\n",
        "print(y)"
      ],
      "metadata": {
        "colab": {
          "base_uri": "https://localhost:8080/"
        },
        "id": "iTnAFoyVH236",
        "outputId": "0f2683c1-1491-442c-9b2d-35610bf910f8"
      },
      "execution_count": 32,
      "outputs": [
        {
          "output_type": "stream",
          "name": "stdout",
          "text": [
            "[[ 2  2  4]\n",
            " [ 5  5  7]\n",
            " [ 8  8 10]\n",
            " [11 11 13]]\n"
          ]
        }
      ]
    }
  ]
}